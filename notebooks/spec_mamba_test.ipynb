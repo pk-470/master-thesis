{
  "cells": [
    {
      "cell_type": "code",
      "execution_count": null,
      "metadata": {},
      "outputs": [],
      "source": [
        "# %load_ext autoreload\n",
        "# %autoreload 2"
      ]
    },
    {
      "cell_type": "markdown",
      "metadata": {},
      "source": [
        "# Imports"
      ]
    },
    {
      "cell_type": "code",
      "execution_count": null,
      "metadata": {},
      "outputs": [],
      "source": [
        "from torchinfo import summary\n",
        "from spec_mamba import *"
      ]
    },
    {
      "cell_type": "code",
      "execution_count": null,
      "metadata": {},
      "outputs": [],
      "source": [
        "DEVICE = 2\n",
        "torch.cuda.get_device_name(DEVICE)"
      ]
    },
    {
      "cell_type": "code",
      "execution_count": null,
      "metadata": {},
      "outputs": [],
      "source": [
        "sample = torch.randn((4, 1, 128, 65), device=DEVICE)"
      ]
    },
    {
      "cell_type": "markdown",
      "metadata": {},
      "source": [
        "# Audio Mamba"
      ]
    },
    {
      "cell_type": "code",
      "execution_count": null,
      "metadata": {},
      "outputs": [],
      "source": [
        "aum_model = (\n",
        "    AudioMamba(\n",
        "        spec_size=(128, 65),\n",
        "        patch_size=(16, 5),\n",
        "        channels=1,\n",
        "        embed_dim=192,\n",
        "        depth=12,\n",
        "        mask_ratio=0.5,\n",
        "        cls_position=\"none\",\n",
        "        use_rms_norm=True,\n",
        "        fused_add_norm=True,\n",
        "        bi_mamba_type=\"v1\",\n",
        "        output_type=\"emb\",\n",
        "        ssm_cfg={\"d_state\": 24, \"d_conv\": 4, \"expand\": 3},\n",
        "    )\n",
        "    .eval()\n",
        "    .to(DEVICE)\n",
        ")\n",
        "summary(aum_model, input_data=sample, depth=3, device=f\"cuda:{DEVICE}\")"
      ]
    },
    {
      "cell_type": "code",
      "execution_count": null,
      "metadata": {},
      "outputs": [],
      "source": [
        "# Training test\n",
        "loss_fn = nn.MSELoss()\n",
        "optimizer = torch.optim.AdamW(aum_model.parameters())\n",
        "\n",
        "aum_model.train()\n",
        "optimizer.zero_grad()\n",
        "logits, mask = aum_model(sample, output_type=\"emb\")\n",
        "logits, mask = aum_model.reshape_as_spec(logits, mask)\n",
        "loss = loss_fn(logits, sample)\n",
        "loss.backward()\n",
        "optimizer.step()\n",
        "\n",
        "aum_model.eval()\n",
        "torch.save(aum_model.state_dict(), \"aum_test.pt\")"
      ]
    },
    {
      "cell_type": "code",
      "execution_count": null,
      "metadata": {},
      "outputs": [],
      "source": [
        "aum_clf_args = AudioMambaCLFArgs(\n",
        "    num_classes=2,\n",
        "    spec_size=(128, 65),\n",
        "    patch_size=(16, 5),\n",
        "    channels=1,\n",
        "    embed_dim=192,\n",
        "    depth=12,\n",
        "    mask_ratio=0.5,\n",
        "    cls_position=\"none\",\n",
        "    use_rms_norm=True,\n",
        "    fused_add_norm=True,\n",
        "    bi_mamba_type=\"v1\",\n",
        "    output_type=\"mean\",\n",
        "    ssm_cfg={\"d_state\": 24, \"d_conv\": 4, \"expand\": 3},\n",
        ")\n",
        "aum_clf_model = AudioMambaCLF(**aum_clf_args).eval().to(DEVICE)\n",
        "summary(aum_clf_model, input_data=sample, depth=3, device=f\"cuda:{DEVICE}\")"
      ]
    },
    {
      "cell_type": "markdown",
      "metadata": {},
      "source": [
        "# SSAST"
      ]
    },
    {
      "cell_type": "code",
      "execution_count": null,
      "metadata": {},
      "outputs": [],
      "source": [
        "ssast_model = (\n",
        "    SSAST(\n",
        "        spec_size=(128, 65),\n",
        "        patch_size=(16, 5),\n",
        "        channels=1,\n",
        "        embed_dim=192,\n",
        "        depth=12,\n",
        "        num_heads=3,\n",
        "        mlp_ratio=4,\n",
        "        mask_ratio=0.5,\n",
        "        cls_position=\"none\",\n",
        "        use_rms_norm=True,\n",
        "        output_type=\"emb\",\n",
        "    )\n",
        "    .eval()\n",
        "    .to(DEVICE)\n",
        ")\n",
        "summary(ssast_model, input_data=sample, depth=2, device=f\"cuda:{DEVICE}\")"
      ]
    }
  ],
  "metadata": {
    "kernelspec": {
      "display_name": ".venv_ssm",
      "language": "python",
      "name": "python3"
    },
    "language_info": {
      "codemirror_mode": {
        "name": "ipython",
        "version": 3
      },
      "file_extension": ".py",
      "mimetype": "text/x-python",
      "name": "python",
      "nbconvert_exporter": "python",
      "pygments_lexer": "ipython3",
      "version": "3.11.11"
    }
  },
  "nbformat": 4,
  "nbformat_minor": 2
}
