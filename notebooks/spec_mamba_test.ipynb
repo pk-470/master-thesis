{
  "cells": [
    {
      "cell_type": "code",
      "execution_count": 1,
      "metadata": {},
      "outputs": [],
      "source": [
        "# %load_ext autoreload\n",
        "# %autoreload 2"
      ]
    },
    {
      "cell_type": "markdown",
      "metadata": {},
      "source": [
        "# Imports"
      ]
    },
    {
      "cell_type": "code",
      "execution_count": 2,
      "metadata": {},
      "outputs": [],
      "source": [
        "from torchinfo import summary\n",
        "from spec_mamba import *"
      ]
    },
    {
      "cell_type": "code",
      "execution_count": 3,
      "metadata": {},
      "outputs": [
        {
          "data": {
            "text/plain": [
              "'Quadro RTX 6000'"
            ]
          },
          "execution_count": 3,
          "metadata": {},
          "output_type": "execute_result"
        }
      ],
      "source": [
        "DEVICE = 2\n",
        "torch.cuda.get_device_name(DEVICE)"
      ]
    },
    {
      "cell_type": "code",
      "execution_count": 4,
      "metadata": {},
      "outputs": [],
      "source": [
        "sample = torch.randn((4, 1, 128, 65), device=DEVICE)"
      ]
    },
    {
      "cell_type": "markdown",
      "metadata": {},
      "source": [
        "# Audio Mamba"
      ]
    },
    {
      "cell_type": "code",
      "execution_count": 5,
      "metadata": {},
      "outputs": [
        {
          "data": {
            "text/plain": [
              "==========================================================================================\n",
              "Layer (type:depth-idx)                   Output Shape              Param #\n",
              "==========================================================================================\n",
              "AudioMamba                               [4, 104, 80]              384\n",
              "├─FlexiPatchEmbed: 1-1                   [4, 104, 192]             15,552\n",
              "│    └─Identity: 2-1                     [4, 104, 192]             --\n",
              "├─FlexiPosEmbed: 1-2                     [4, 104, 192]             19,968\n",
              "├─Dropout: 1-3                           [4, 104, 192]             --\n",
              "├─ModuleList: 1-4                        --                        --\n",
              "│    └─MambaBlock: 2-2                   [4, 104, 192]             192\n",
              "│    │    └─Mamba: 3-1                   [4, 104, 192]             404,928\n",
              "│    └─MambaBlock: 2-3                   [4, 104, 192]             192\n",
              "│    │    └─DropPath: 3-2                [4, 104, 192]             --\n",
              "│    │    └─Mamba: 3-3                   [4, 104, 192]             404,928\n",
              "│    └─MambaBlock: 2-4                   [4, 104, 192]             192\n",
              "│    │    └─DropPath: 3-4                [4, 104, 192]             --\n",
              "│    │    └─Mamba: 3-5                   [4, 104, 192]             404,928\n",
              "│    └─MambaBlock: 2-5                   [4, 104, 192]             192\n",
              "│    │    └─DropPath: 3-6                [4, 104, 192]             --\n",
              "│    │    └─Mamba: 3-7                   [4, 104, 192]             404,928\n",
              "│    └─MambaBlock: 2-6                   [4, 104, 192]             192\n",
              "│    │    └─DropPath: 3-8                [4, 104, 192]             --\n",
              "│    │    └─Mamba: 3-9                   [4, 104, 192]             404,928\n",
              "│    └─MambaBlock: 2-7                   [4, 104, 192]             192\n",
              "│    │    └─DropPath: 3-10               [4, 104, 192]             --\n",
              "│    │    └─Mamba: 3-11                  [4, 104, 192]             404,928\n",
              "│    └─MambaBlock: 2-8                   [4, 104, 192]             192\n",
              "│    │    └─DropPath: 3-12               [4, 104, 192]             --\n",
              "│    │    └─Mamba: 3-13                  [4, 104, 192]             404,928\n",
              "│    └─MambaBlock: 2-9                   [4, 104, 192]             192\n",
              "│    │    └─DropPath: 3-14               [4, 104, 192]             --\n",
              "│    │    └─Mamba: 3-15                  [4, 104, 192]             404,928\n",
              "│    └─MambaBlock: 2-10                  [4, 104, 192]             192\n",
              "│    │    └─DropPath: 3-16               [4, 104, 192]             --\n",
              "│    │    └─Mamba: 3-17                  [4, 104, 192]             404,928\n",
              "│    └─MambaBlock: 2-11                  [4, 104, 192]             192\n",
              "│    │    └─DropPath: 3-18               [4, 104, 192]             --\n",
              "│    │    └─Mamba: 3-19                  [4, 104, 192]             404,928\n",
              "│    └─MambaBlock: 2-12                  [4, 104, 192]             192\n",
              "│    │    └─DropPath: 3-20               [4, 104, 192]             --\n",
              "│    │    └─Mamba: 3-21                  [4, 104, 192]             404,928\n",
              "│    └─MambaBlock: 2-13                  [4, 104, 192]             192\n",
              "│    │    └─DropPath: 3-22               [4, 104, 192]             --\n",
              "│    │    └─Mamba: 3-23                  [4, 104, 192]             404,928\n",
              "├─DropPath: 1-5                          [4, 104, 192]             --\n",
              "├─Sequential: 1-6                        [4, 104, 80]              --\n",
              "│    └─Linear: 2-14                      [4, 104, 192]             37,056\n",
              "│    └─ReLU: 2-15                        [4, 104, 192]             --\n",
              "│    └─Dropout: 2-16                     [4, 104, 192]             --\n",
              "│    └─Linear: 2-17                      [4, 104, 80]              15,440\n",
              "==========================================================================================\n",
              "Total params: 4,949,840\n",
              "Trainable params: 4,949,840\n",
              "Non-trainable params: 0\n",
              "Total mult-adds (Units.MEGABYTES): 0.21\n",
              "==========================================================================================\n",
              "Input size (MB): 0.13\n",
              "Forward/backward pass size (MB): 1.54\n",
              "Params size (MB): 0.29\n",
              "Estimated Total Size (MB): 1.97\n",
              "=========================================================================================="
            ]
          },
          "execution_count": 5,
          "metadata": {},
          "output_type": "execute_result"
        }
      ],
      "source": [
        "aum_model = (\n",
        "    AudioMamba(\n",
        "        spec_size=(128, 65),\n",
        "        patch_size=(16, 5),\n",
        "        channels=1,\n",
        "        embed_dim=192,\n",
        "        depth=12,\n",
        "        mask_ratio=0.5,\n",
        "        cls_position=\"none\",\n",
        "        use_rms_norm=True,\n",
        "        fused_add_norm=True,\n",
        "        bi_mamba_type=\"v1\",\n",
        "        output_type=\"emb\",\n",
        "        ssm_cfg={\"d_state\": 24, \"d_conv\": 4, \"expand\": 3},\n",
        "    )\n",
        "    .eval()\n",
        "    .to(DEVICE)\n",
        ")\n",
        "summary(aum_model, input_data=sample, depth=3, device=f\"cuda:{DEVICE}\")"
      ]
    },
    {
      "cell_type": "code",
      "execution_count": 6,
      "metadata": {},
      "outputs": [],
      "source": [
        "# Training test\n",
        "loss_fn = nn.MSELoss()\n",
        "optimizer = torch.optim.AdamW(aum_model.parameters())\n",
        "\n",
        "aum_model.train()\n",
        "optimizer.zero_grad()\n",
        "logits, mask = aum_model(sample, output_type=\"emb\")\n",
        "logits, mask = aum_model.reshape_as_spec(logits, mask)\n",
        "loss = loss_fn(logits, sample)\n",
        "loss.backward()\n",
        "optimizer.step()\n",
        "\n",
        "aum_model.eval()\n",
        "torch.save(aum_model.state_dict(), \"aum_test.pt\")"
      ]
    },
    {
      "cell_type": "code",
      "execution_count": 7,
      "metadata": {},
      "outputs": [
        {
          "data": {
            "text/plain": [
              "==========================================================================================\n",
              "Layer (type:depth-idx)                   Output Shape              Param #\n",
              "==========================================================================================\n",
              "AudioMambaCLF                            [4, 2]                    --\n",
              "├─AudioMamba: 1-1                        --                        384\n",
              "│    └─FlexiPatchEmbed: 2-1              [4, 104, 192]             15,552\n",
              "│    │    └─Identity: 3-1                [4, 104, 192]             --\n",
              "│    └─FlexiPosEmbed: 2-2                [4, 104, 192]             19,968\n",
              "│    └─Dropout: 2-3                      [4, 104, 192]             --\n",
              "│    └─ModuleList: 2-4                   --                        --\n",
              "│    │    └─MambaBlock: 3-2              [4, 104, 192]             405,120\n",
              "│    │    └─MambaBlock: 3-3              [4, 104, 192]             405,120\n",
              "│    │    └─MambaBlock: 3-4              [4, 104, 192]             405,120\n",
              "│    │    └─MambaBlock: 3-5              [4, 104, 192]             405,120\n",
              "│    │    └─MambaBlock: 3-6              [4, 104, 192]             405,120\n",
              "│    │    └─MambaBlock: 3-7              [4, 104, 192]             405,120\n",
              "│    │    └─MambaBlock: 3-8              [4, 104, 192]             405,120\n",
              "│    │    └─MambaBlock: 3-9              [4, 104, 192]             405,120\n",
              "│    │    └─MambaBlock: 3-10             [4, 104, 192]             405,120\n",
              "│    │    └─MambaBlock: 3-11             [4, 104, 192]             405,120\n",
              "│    │    └─MambaBlock: 3-12             [4, 104, 192]             405,120\n",
              "│    │    └─MambaBlock: 3-13             [4, 104, 192]             405,120\n",
              "│    └─DropPath: 2-5                     [4, 104, 192]             --\n",
              "├─Classifier: 1-2                        [4, 2]                    --\n",
              "│    └─Identity: 2-6                     [4, 192]                  --\n",
              "│    └─ReLU: 2-7                         [4, 192]                  --\n",
              "│    └─Dropout: 2-8                      [4, 192]                  --\n",
              "│    └─Linear: 2-9                       [4, 2]                    386\n",
              "==========================================================================================\n",
              "Total params: 4,897,730\n",
              "Trainable params: 4,897,730\n",
              "Non-trainable params: 0\n",
              "Total mult-adds (Units.MEGABYTES): 0.00\n",
              "==========================================================================================\n",
              "Input size (MB): 0.13\n",
              "Forward/backward pass size (MB): 0.64\n",
              "Params size (MB): 0.08\n",
              "Estimated Total Size (MB): 0.85\n",
              "=========================================================================================="
            ]
          },
          "execution_count": 7,
          "metadata": {},
          "output_type": "execute_result"
        }
      ],
      "source": [
        "aum_clf_args = AudioMambaCLFArgs(\n",
        "    num_classes=2,\n",
        "    spec_size=(128, 65),\n",
        "    patch_size=(16, 5),\n",
        "    channels=1,\n",
        "    embed_dim=192,\n",
        "    depth=12,\n",
        "    mask_ratio=0.5,\n",
        "    cls_position=\"none\",\n",
        "    use_rms_norm=True,\n",
        "    fused_add_norm=True,\n",
        "    bi_mamba_type=\"v1\",\n",
        "    output_type=\"mean\",\n",
        "    ssm_cfg={\"d_state\": 24, \"d_conv\": 4, \"expand\": 3},\n",
        ")\n",
        "aum_clf_model = AudioMambaCLF(**aum_clf_args).eval().to(DEVICE)\n",
        "summary(aum_clf_model, input_data=sample, depth=3, device=f\"cuda:{DEVICE}\")"
      ]
    },
    {
      "cell_type": "markdown",
      "metadata": {},
      "source": [
        "# SSAST"
      ]
    },
    {
      "cell_type": "code",
      "execution_count": 8,
      "metadata": {},
      "outputs": [
        {
          "data": {
            "text/plain": [
              "==========================================================================================\n",
              "Layer (type:depth-idx)                   Output Shape              Param #\n",
              "==========================================================================================\n",
              "SSAST                                    [4, 104, 80]              192\n",
              "├─FlexiPatchEmbed: 1-1                   [4, 104, 192]             15,552\n",
              "│    └─Identity: 2-1                     [4, 104, 192]             --\n",
              "├─FlexiPosEmbed: 1-2                     [4, 104, 192]             19,968\n",
              "├─Dropout: 1-3                           [4, 104, 192]             --\n",
              "├─ModuleList: 1-4                        --                        --\n",
              "│    └─SSASTBlock: 2-2                   [4, 104, 192]             444,480\n",
              "│    └─SSASTBlock: 2-3                   [4, 104, 192]             444,480\n",
              "│    └─SSASTBlock: 2-4                   [4, 104, 192]             444,480\n",
              "│    └─SSASTBlock: 2-5                   [4, 104, 192]             444,480\n",
              "│    └─SSASTBlock: 2-6                   [4, 104, 192]             444,480\n",
              "│    └─SSASTBlock: 2-7                   [4, 104, 192]             444,480\n",
              "│    └─SSASTBlock: 2-8                   [4, 104, 192]             444,480\n",
              "│    └─SSASTBlock: 2-9                   [4, 104, 192]             444,480\n",
              "│    └─SSASTBlock: 2-10                  [4, 104, 192]             444,480\n",
              "│    └─SSASTBlock: 2-11                  [4, 104, 192]             444,480\n",
              "│    └─SSASTBlock: 2-12                  [4, 104, 192]             444,480\n",
              "│    └─SSASTBlock: 2-13                  [4, 104, 192]             444,480\n",
              "├─DropPath: 1-5                          [4, 104, 192]             --\n",
              "├─RMSNorm: 1-6                           [4, 104, 192]             192\n",
              "├─Sequential: 1-7                        [4, 104, 80]              --\n",
              "│    └─Linear: 2-14                      [4, 104, 192]             37,056\n",
              "│    └─ReLU: 2-15                        [4, 104, 192]             --\n",
              "│    └─Dropout: 2-16                     [4, 104, 192]             --\n",
              "│    └─Linear: 2-17                      [4, 104, 80]              15,440\n",
              "==========================================================================================\n",
              "Total params: 5,422,160\n",
              "Trainable params: 5,422,160\n",
              "Non-trainable params: 0\n",
              "Total mult-adds (Units.MEGABYTES): 21.55\n",
              "==========================================================================================\n",
              "Input size (MB): 0.13\n",
              "Forward/backward pass size (MB): 86.53\n",
              "Params size (MB): 21.63\n",
              "Estimated Total Size (MB): 108.29\n",
              "=========================================================================================="
            ]
          },
          "execution_count": 8,
          "metadata": {},
          "output_type": "execute_result"
        }
      ],
      "source": [
        "ssast_model = (\n",
        "    SSAST(\n",
        "        spec_size=(128, 65),\n",
        "        patch_size=(16, 5),\n",
        "        channels=1,\n",
        "        embed_dim=192,\n",
        "        depth=12,\n",
        "        num_heads=3,\n",
        "        mlp_ratio=4,\n",
        "        mask_ratio=0.5,\n",
        "        cls_position=\"none\",\n",
        "        use_rms_norm=True,\n",
        "        output_type=\"emb\",\n",
        "    )\n",
        "    .eval()\n",
        "    .to(DEVICE)\n",
        ")\n",
        "summary(ssast_model, input_data=sample, depth=2, device=f\"cuda:{DEVICE}\")"
      ]
    }
  ],
  "metadata": {
    "kernelspec": {
      "display_name": ".venv_ssm",
      "language": "python",
      "name": "python3"
    },
    "language_info": {
      "codemirror_mode": {
        "name": "ipython",
        "version": 3
      },
      "file_extension": ".py",
      "mimetype": "text/x-python",
      "name": "python",
      "nbconvert_exporter": "python",
      "pygments_lexer": "ipython3",
      "version": "3.11.11"
    }
  },
  "nbformat": 4,
  "nbformat_minor": 2
}
